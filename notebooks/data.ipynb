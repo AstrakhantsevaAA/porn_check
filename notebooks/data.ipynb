{
 "cells": [
  {
   "cell_type": "code",
   "execution_count": 1,
   "metadata": {
    "collapsed": true,
    "ExecuteTime": {
     "start_time": "2023-04-06T20:15:11.917445Z",
     "end_time": "2023-04-06T20:15:11.941065Z"
    }
   },
   "outputs": [
    {
     "data": {
      "text/plain": "4566"
     },
     "execution_count": 1,
     "metadata": {},
     "output_type": "execute_result"
    }
   ],
   "source": [
    "import pandas as pd\n",
    "from pathlib import Path\n",
    "\n",
    "\n",
    "data_path = Path(\"./data/porn_or_not_porn\")\n",
    "data = data_path.rglob(f\"*.*\")\n",
    "all_data = list(data)\n",
    "len(all_data)"
   ]
  },
  {
   "cell_type": "code",
   "execution_count": 4,
   "outputs": [
    {
     "data": {
      "text/plain": "                                            filepath label_str  label\n0  data/porn_or_not_porn/porn/1479026608_m4h05889...      porn      1\n1  data/porn_or_not_porn/porn/1459499829_4384093d...      porn      1\n2  data/porn_or_not_porn/porn/1448990004_my-priva...      porn      1\n3  data/porn_or_not_porn/porn/1232561242_46194_18...      porn      1\n4  data/porn_or_not_porn/porn/1281969136_my-priva...      porn      1",
      "text/html": "<div>\n<style scoped>\n    .dataframe tbody tr th:only-of-type {\n        vertical-align: middle;\n    }\n\n    .dataframe tbody tr th {\n        vertical-align: top;\n    }\n\n    .dataframe thead th {\n        text-align: right;\n    }\n</style>\n<table border=\"1\" class=\"dataframe\">\n  <thead>\n    <tr style=\"text-align: right;\">\n      <th></th>\n      <th>filepath</th>\n      <th>label_str</th>\n      <th>label</th>\n    </tr>\n  </thead>\n  <tbody>\n    <tr>\n      <th>0</th>\n      <td>data/porn_or_not_porn/porn/1479026608_m4h05889...</td>\n      <td>porn</td>\n      <td>1</td>\n    </tr>\n    <tr>\n      <th>1</th>\n      <td>data/porn_or_not_porn/porn/1459499829_4384093d...</td>\n      <td>porn</td>\n      <td>1</td>\n    </tr>\n    <tr>\n      <th>2</th>\n      <td>data/porn_or_not_porn/porn/1448990004_my-priva...</td>\n      <td>porn</td>\n      <td>1</td>\n    </tr>\n    <tr>\n      <th>3</th>\n      <td>data/porn_or_not_porn/porn/1232561242_46194_18...</td>\n      <td>porn</td>\n      <td>1</td>\n    </tr>\n    <tr>\n      <th>4</th>\n      <td>data/porn_or_not_porn/porn/1281969136_my-priva...</td>\n      <td>porn</td>\n      <td>1</td>\n    </tr>\n  </tbody>\n</table>\n</div>"
     },
     "execution_count": 4,
     "metadata": {},
     "output_type": "execute_result"
    }
   ],
   "source": [
    "target_map = {\"not_porn\": 0, \"porn\": 1}\n",
    "data_dict = {\"filepath\": all_data}\n",
    "df = pd.DataFrame(data_dict)\n",
    "df[\"label_str\"] = df[\"filepath\"].apply(lambda x: x.parent.name)\n",
    "df[\"label\"] = df[\"label_str\"].map(target_map)\n",
    "df.head()"
   ],
   "metadata": {
    "collapsed": false,
    "ExecuteTime": {
     "start_time": "2023-04-06T20:16:14.646962Z",
     "end_time": "2023-04-06T20:16:14.694918Z"
    }
   }
  },
  {
   "cell_type": "code",
   "execution_count": 10,
   "outputs": [
    {
     "data": {
      "text/plain": "       filepath  label_str\nlabel                     \n0          4060       4060\n1           506        506",
      "text/html": "<div>\n<style scoped>\n    .dataframe tbody tr th:only-of-type {\n        vertical-align: middle;\n    }\n\n    .dataframe tbody tr th {\n        vertical-align: top;\n    }\n\n    .dataframe thead th {\n        text-align: right;\n    }\n</style>\n<table border=\"1\" class=\"dataframe\">\n  <thead>\n    <tr style=\"text-align: right;\">\n      <th></th>\n      <th>filepath</th>\n      <th>label_str</th>\n    </tr>\n    <tr>\n      <th>label</th>\n      <th></th>\n      <th></th>\n    </tr>\n  </thead>\n  <tbody>\n    <tr>\n      <th>0</th>\n      <td>4060</td>\n      <td>4060</td>\n    </tr>\n    <tr>\n      <th>1</th>\n      <td>506</td>\n      <td>506</td>\n    </tr>\n  </tbody>\n</table>\n</div>"
     },
     "execution_count": 10,
     "metadata": {},
     "output_type": "execute_result"
    }
   ],
   "source": [
    "df.groupby(\"label\").count()"
   ],
   "metadata": {
    "collapsed": false,
    "ExecuteTime": {
     "start_time": "2023-04-06T20:25:52.078659Z",
     "end_time": "2023-04-06T20:25:52.122211Z"
    }
   }
  },
  {
   "cell_type": "code",
   "execution_count": 11,
   "outputs": [
    {
     "data": {
      "text/plain": "                                               filepath label_str  label\n848   data/porn_or_not_porn/not_porn/ps6n0uh4d0a16mg...  not_porn      0\n3735  data/porn_or_not_porn/not_porn/IMG_20190815_17...  not_porn      0\n1126  data/porn_or_not_porn/not_porn/pi8iw3k0oscksow...  not_porn      0\n1776  data/porn_or_not_porn/not_porn/B6203889-C422-4...  not_porn      0\n2936  data/porn_or_not_porn/not_porn/307540784_10159...  not_porn      0",
      "text/html": "<div>\n<style scoped>\n    .dataframe tbody tr th:only-of-type {\n        vertical-align: middle;\n    }\n\n    .dataframe tbody tr th {\n        vertical-align: top;\n    }\n\n    .dataframe thead th {\n        text-align: right;\n    }\n</style>\n<table border=\"1\" class=\"dataframe\">\n  <thead>\n    <tr style=\"text-align: right;\">\n      <th></th>\n      <th>filepath</th>\n      <th>label_str</th>\n      <th>label</th>\n    </tr>\n  </thead>\n  <tbody>\n    <tr>\n      <th>848</th>\n      <td>data/porn_or_not_porn/not_porn/ps6n0uh4d0a16mg...</td>\n      <td>not_porn</td>\n      <td>0</td>\n    </tr>\n    <tr>\n      <th>3735</th>\n      <td>data/porn_or_not_porn/not_porn/IMG_20190815_17...</td>\n      <td>not_porn</td>\n      <td>0</td>\n    </tr>\n    <tr>\n      <th>1126</th>\n      <td>data/porn_or_not_porn/not_porn/pi8iw3k0oscksow...</td>\n      <td>not_porn</td>\n      <td>0</td>\n    </tr>\n    <tr>\n      <th>1776</th>\n      <td>data/porn_or_not_porn/not_porn/B6203889-C422-4...</td>\n      <td>not_porn</td>\n      <td>0</td>\n    </tr>\n    <tr>\n      <th>2936</th>\n      <td>data/porn_or_not_porn/not_porn/307540784_10159...</td>\n      <td>not_porn</td>\n      <td>0</td>\n    </tr>\n  </tbody>\n</table>\n</div>"
     },
     "execution_count": 11,
     "metadata": {},
     "output_type": "execute_result"
    }
   ],
   "source": [
    "from sklearn.model_selection import train_test_split\n",
    "\n",
    "train_val, test = train_test_split(df, stratify=df[\"label\"], shuffle=True, train_size=0.9, test_size=0.1, random_state=24)\n",
    "train, val = train_test_split(train_val, stratify=train_val[\"label\"], shuffle=True, train_size=0.8, test_size=0.2, random_state=24)\n",
    "train.head()"
   ],
   "metadata": {
    "collapsed": false,
    "ExecuteTime": {
     "start_time": "2023-04-06T20:27:11.665050Z",
     "end_time": "2023-04-06T20:27:11.710588Z"
    }
   }
  },
  {
   "cell_type": "code",
   "execution_count": 12,
   "outputs": [
    {
     "data": {
      "text/plain": "       filepath  label_str\nlabel                     \n0          2923       2923\n1           364        364",
      "text/html": "<div>\n<style scoped>\n    .dataframe tbody tr th:only-of-type {\n        vertical-align: middle;\n    }\n\n    .dataframe tbody tr th {\n        vertical-align: top;\n    }\n\n    .dataframe thead th {\n        text-align: right;\n    }\n</style>\n<table border=\"1\" class=\"dataframe\">\n  <thead>\n    <tr style=\"text-align: right;\">\n      <th></th>\n      <th>filepath</th>\n      <th>label_str</th>\n    </tr>\n    <tr>\n      <th>label</th>\n      <th></th>\n      <th></th>\n    </tr>\n  </thead>\n  <tbody>\n    <tr>\n      <th>0</th>\n      <td>2923</td>\n      <td>2923</td>\n    </tr>\n    <tr>\n      <th>1</th>\n      <td>364</td>\n      <td>364</td>\n    </tr>\n  </tbody>\n</table>\n</div>"
     },
     "execution_count": 12,
     "metadata": {},
     "output_type": "execute_result"
    }
   ],
   "source": [
    "train.groupby(\"label\").count()"
   ],
   "metadata": {
    "collapsed": false,
    "ExecuteTime": {
     "start_time": "2023-04-06T20:27:21.408288Z",
     "end_time": "2023-04-06T20:27:21.415871Z"
    }
   }
  },
  {
   "cell_type": "code",
   "execution_count": 13,
   "outputs": [
    {
     "data": {
      "text/plain": "       filepath  label_str\nlabel                     \n0           731        731\n1            91         91",
      "text/html": "<div>\n<style scoped>\n    .dataframe tbody tr th:only-of-type {\n        vertical-align: middle;\n    }\n\n    .dataframe tbody tr th {\n        vertical-align: top;\n    }\n\n    .dataframe thead th {\n        text-align: right;\n    }\n</style>\n<table border=\"1\" class=\"dataframe\">\n  <thead>\n    <tr style=\"text-align: right;\">\n      <th></th>\n      <th>filepath</th>\n      <th>label_str</th>\n    </tr>\n    <tr>\n      <th>label</th>\n      <th></th>\n      <th></th>\n    </tr>\n  </thead>\n  <tbody>\n    <tr>\n      <th>0</th>\n      <td>731</td>\n      <td>731</td>\n    </tr>\n    <tr>\n      <th>1</th>\n      <td>91</td>\n      <td>91</td>\n    </tr>\n  </tbody>\n</table>\n</div>"
     },
     "execution_count": 13,
     "metadata": {},
     "output_type": "execute_result"
    }
   ],
   "source": [
    "val.groupby(\"label\").count()"
   ],
   "metadata": {
    "collapsed": false,
    "ExecuteTime": {
     "start_time": "2023-04-06T20:27:39.720496Z",
     "end_time": "2023-04-06T20:27:39.728730Z"
    }
   }
  },
  {
   "cell_type": "code",
   "execution_count": 14,
   "outputs": [
    {
     "data": {
      "text/plain": "       filepath  label_str\nlabel                     \n0           406        406\n1            51         51",
      "text/html": "<div>\n<style scoped>\n    .dataframe tbody tr th:only-of-type {\n        vertical-align: middle;\n    }\n\n    .dataframe tbody tr th {\n        vertical-align: top;\n    }\n\n    .dataframe thead th {\n        text-align: right;\n    }\n</style>\n<table border=\"1\" class=\"dataframe\">\n  <thead>\n    <tr style=\"text-align: right;\">\n      <th></th>\n      <th>filepath</th>\n      <th>label_str</th>\n    </tr>\n    <tr>\n      <th>label</th>\n      <th></th>\n      <th></th>\n    </tr>\n  </thead>\n  <tbody>\n    <tr>\n      <th>0</th>\n      <td>406</td>\n      <td>406</td>\n    </tr>\n    <tr>\n      <th>1</th>\n      <td>51</td>\n      <td>51</td>\n    </tr>\n  </tbody>\n</table>\n</div>"
     },
     "execution_count": 14,
     "metadata": {},
     "output_type": "execute_result"
    }
   ],
   "source": [
    "test.groupby(\"label\").count()"
   ],
   "metadata": {
    "collapsed": false,
    "ExecuteTime": {
     "start_time": "2023-04-06T20:27:44.072559Z",
     "end_time": "2023-04-06T20:27:44.079122Z"
    }
   }
  },
  {
   "cell_type": "code",
   "execution_count": 15,
   "outputs": [],
   "source": [
    "train[\"split\"] = \"train\"\n",
    "val[\"split\"] = \"val\"\n",
    "test[\"split\"] = \"test\""
   ],
   "metadata": {
    "collapsed": false,
    "ExecuteTime": {
     "start_time": "2023-04-06T20:28:54.947425Z",
     "end_time": "2023-04-06T20:28:54.994057Z"
    }
   }
  },
  {
   "cell_type": "code",
   "execution_count": 16,
   "outputs": [
    {
     "data": {
      "text/plain": "                                               filepath label_str  label  \\\n1020        data/porn_or_not_porn/not_porn/IMG_5705.JPG  not_porn      0   \n4193  data/porn_or_not_porn/not_porn/E3216393-A0CB-4...  not_porn      0   \n2932  data/porn_or_not_porn/not_porn/C3AB8CE2-40D7-4...  not_porn      0   \n1554  data/porn_or_not_porn/not_porn/BCA18B1E-F65F-4...  not_porn      0   \n795   data/porn_or_not_porn/not_porn/ECBEA556-270A-4...  not_porn      0   \n\n      split  \n1020  train  \n4193   test  \n2932  train  \n1554  train  \n795   train  ",
      "text/html": "<div>\n<style scoped>\n    .dataframe tbody tr th:only-of-type {\n        vertical-align: middle;\n    }\n\n    .dataframe tbody tr th {\n        vertical-align: top;\n    }\n\n    .dataframe thead th {\n        text-align: right;\n    }\n</style>\n<table border=\"1\" class=\"dataframe\">\n  <thead>\n    <tr style=\"text-align: right;\">\n      <th></th>\n      <th>filepath</th>\n      <th>label_str</th>\n      <th>label</th>\n      <th>split</th>\n    </tr>\n  </thead>\n  <tbody>\n    <tr>\n      <th>1020</th>\n      <td>data/porn_or_not_porn/not_porn/IMG_5705.JPG</td>\n      <td>not_porn</td>\n      <td>0</td>\n      <td>train</td>\n    </tr>\n    <tr>\n      <th>4193</th>\n      <td>data/porn_or_not_porn/not_porn/E3216393-A0CB-4...</td>\n      <td>not_porn</td>\n      <td>0</td>\n      <td>test</td>\n    </tr>\n    <tr>\n      <th>2932</th>\n      <td>data/porn_or_not_porn/not_porn/C3AB8CE2-40D7-4...</td>\n      <td>not_porn</td>\n      <td>0</td>\n      <td>train</td>\n    </tr>\n    <tr>\n      <th>1554</th>\n      <td>data/porn_or_not_porn/not_porn/BCA18B1E-F65F-4...</td>\n      <td>not_porn</td>\n      <td>0</td>\n      <td>train</td>\n    </tr>\n    <tr>\n      <th>795</th>\n      <td>data/porn_or_not_porn/not_porn/ECBEA556-270A-4...</td>\n      <td>not_porn</td>\n      <td>0</td>\n      <td>train</td>\n    </tr>\n  </tbody>\n</table>\n</div>"
     },
     "execution_count": 16,
     "metadata": {},
     "output_type": "execute_result"
    }
   ],
   "source": [
    "split_full = pd.concat([train, val, test], ignore_index=True)\n",
    "split_full.sample(5)"
   ],
   "metadata": {
    "collapsed": false,
    "ExecuteTime": {
     "start_time": "2023-04-06T20:29:54.200435Z",
     "end_time": "2023-04-06T20:29:54.242301Z"
    }
   }
  },
  {
   "cell_type": "code",
   "execution_count": 18,
   "outputs": [],
   "source": [
    "save_path = Path(\"./data/processed/splits\")\n",
    "save_path.mkdir(exist_ok=True, parents=True)\n",
    "split_full.to_csv(save_path / \"6_04_23.csv\", index=False)"
   ],
   "metadata": {
    "collapsed": false,
    "ExecuteTime": {
     "start_time": "2023-04-06T20:33:09.606524Z",
     "end_time": "2023-04-06T20:33:09.650124Z"
    }
   }
  },
  {
   "cell_type": "code",
   "execution_count": null,
   "outputs": [],
   "source": [],
   "metadata": {
    "collapsed": false
   }
  }
 ],
 "metadata": {
  "kernelspec": {
   "name": "porn_check",
   "language": "python",
   "display_name": "Python (check_porn)"
  },
  "language_info": {
   "codemirror_mode": {
    "name": "ipython",
    "version": 2
   },
   "file_extension": ".py",
   "mimetype": "text/x-python",
   "name": "python",
   "nbconvert_exporter": "python",
   "pygments_lexer": "ipython2",
   "version": "2.7.6"
  }
 },
 "nbformat": 4,
 "nbformat_minor": 0
}
